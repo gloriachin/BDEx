{
 "cells": [
  {
   "cell_type": "code",
   "execution_count": 9,
   "id": "1e0d7831",
   "metadata": {},
   "outputs": [],
   "source": [
    "from BDEx import get_geneset_data,ana, kg\n",
    "import numpy as np"
   ]
  },
  {
   "cell_type": "code",
   "execution_count": 2,
   "id": "4d524a09",
   "metadata": {},
   "outputs": [],
   "source": [
    "geneset = get_geneset_data.get_geneset(\"msigdb\",\"HALLMARK_OXIDATIVE_PHOSPHORYLATION\")\n",
    "geneset = get_geneset_data.get_geneset(\"msigdb\",\"HALLMARK_APOPTOSIS\")\n",
    "geneset = get_geneset_data.get_geneset(\"msigdb\",\"HALLMARK_FATTY_ACID_METABOLISM\")"
   ]
  },
  {
   "cell_type": "code",
   "execution_count": 4,
   "id": "0cb42428",
   "metadata": {},
   "outputs": [
    {
     "name": "stdout",
     "output_type": "stream",
     "text": [
      "https://ndownloader.figshare.com/files/31315882\n"
     ]
    }
   ],
   "source": [
    "CCLE_expr = get_geneset_data.get_data(\"Depmap_21Q4\",\"CCLE_expression\")"
   ]
  },
  {
   "cell_type": "code",
   "execution_count": null,
   "id": "f5d72606",
   "metadata": {},
   "outputs": [],
   "source": []
  },
  {
   "cell_type": "code",
   "execution_count": 83,
   "id": "d45322cd",
   "metadata": {},
   "outputs": [],
   "source": [
    "df =CCLE_expr\n",
    "col_names = []\n",
    "if \"Unnamed: 0\" in df.columns:\n",
    "    for col in df.columns:\n",
    "        if col != \"Unnamed: 0\":\n",
    "            col_names.append(col.split(\" \")[0])\n",
    "\n",
    "    df.drop(columns=df.columns[0], \n",
    "            axis=1, \n",
    "            inplace=True)\n",
    "else:\n",
    "    for col in df.columns:\n",
    "        if col != \"Unnamed: 0\":\n",
    "            col_names.append(col.split(\" \")[0])\n",
    "\n",
    "df.columns = col_names\n",
    "geneset = list(set(geneset).intersection(set(col_names)))\n",
    "x = df.loc[:,geneset]"
   ]
  },
  {
   "cell_type": "code",
   "execution_count": 84,
   "id": "921607a9",
   "metadata": {},
   "outputs": [],
   "source": [
    "dic_gene_epxr = ana.pd2dic(x)\n",
    "result = ana.measure_cor_spearman_batch(dic_gene_epxr,geneset,geneset)\n",
    "[g1,g2,g3] = ana.check_gene_groups_from_correlation(result,0.3)"
   ]
  },
  {
   "cell_type": "code",
   "execution_count": null,
   "id": "278d4dc7",
   "metadata": {},
   "outputs": [],
   "source": [
    "#kg.drug_response_KG_by_gene(\"EGFR\",\"biolink:associated with sensitivity to\")"
   ]
  },
  {
   "cell_type": "code",
   "execution_count": null,
   "id": "1a642f27",
   "metadata": {},
   "outputs": [],
   "source": [
    "#kg.drug_response_KG_by_gene(\"KRAS\",\"biolink:associated with resistance to\")"
   ]
  },
  {
   "cell_type": "code",
   "execution_count": 85,
   "id": "d0e9c9f4",
   "metadata": {},
   "outputs": [],
   "source": [
    "res_sen = kg.drug_response_KG_by_drug(\"JQ1\",\"biolink:associated with sensitivity to\")"
   ]
  },
  {
   "cell_type": "code",
   "execution_count": 86,
   "id": "c071e811",
   "metadata": {},
   "outputs": [],
   "source": [
    "res_res = kg.drug_response_KG_by_drug(\"JQ1\",\"biolink:associated with resistance to\")"
   ]
  },
  {
   "cell_type": "code",
   "execution_count": 87,
   "id": "502d8c66",
   "metadata": {},
   "outputs": [
    {
     "data": {
      "text/html": [
       "<div>\n",
       "<style scoped>\n",
       "    .dataframe tbody tr th:only-of-type {\n",
       "        vertical-align: middle;\n",
       "    }\n",
       "\n",
       "    .dataframe tbody tr th {\n",
       "        vertical-align: top;\n",
       "    }\n",
       "\n",
       "    .dataframe thead th {\n",
       "        text-align: right;\n",
       "    }\n",
       "</style>\n",
       "<table border=\"1\" class=\"dataframe\">\n",
       "  <thead>\n",
       "    <tr style=\"text-align: right;\">\n",
       "      <th></th>\n",
       "      <th>Subject</th>\n",
       "      <th>Subject_name</th>\n",
       "      <th>Object</th>\n",
       "      <th>Object_name</th>\n",
       "      <th>predicate</th>\n",
       "      <th>tumor_type</th>\n",
       "      <th>Modifer</th>\n",
       "    </tr>\n",
       "  </thead>\n",
       "  <tbody>\n",
       "    <tr>\n",
       "      <th>0</th>\n",
       "      <td>Entrez:25913</td>\n",
       "      <td>[{'name': 'POT1', 'categories': 'Gene'}]</td>\n",
       "      <td>CHEBI:137113</td>\n",
       "      <td>JQ1</td>\n",
       "      <td>biolink:associated with sensitivity to</td>\n",
       "      <td>GBM</td>\n",
       "      <td>Expression</td>\n",
       "    </tr>\n",
       "    <tr>\n",
       "      <th>1</th>\n",
       "      <td>Entrez:10810</td>\n",
       "      <td>[{'name': 'WASF3', 'categories': 'Gene'}]</td>\n",
       "      <td>CHEBI:137113</td>\n",
       "      <td>JQ1</td>\n",
       "      <td>biolink:associated with sensitivity to</td>\n",
       "      <td>UCEC</td>\n",
       "      <td>Expression</td>\n",
       "    </tr>\n",
       "    <tr>\n",
       "      <th>2</th>\n",
       "      <td>Entrez:493</td>\n",
       "      <td>[{'name': 'ATP2B4', 'categories': 'Gene'}]</td>\n",
       "      <td>CHEBI:137113</td>\n",
       "      <td>JQ1</td>\n",
       "      <td>biolink:associated with sensitivity to</td>\n",
       "      <td>NB</td>\n",
       "      <td>Expression</td>\n",
       "    </tr>\n",
       "    <tr>\n",
       "      <th>3</th>\n",
       "      <td>Entrez:550631</td>\n",
       "      <td>[{'name': 'CCDC157', 'categories': 'Gene'}]</td>\n",
       "      <td>CHEBI:137113</td>\n",
       "      <td>JQ1</td>\n",
       "      <td>biolink:associated with sensitivity to</td>\n",
       "      <td>ALL</td>\n",
       "      <td>Genetic variants</td>\n",
       "    </tr>\n",
       "    <tr>\n",
       "      <th>4</th>\n",
       "      <td>Entrez:55771</td>\n",
       "      <td>[{'name': 'PRR11', 'categories': 'Gene'}]</td>\n",
       "      <td>CHEBI:137113</td>\n",
       "      <td>JQ1</td>\n",
       "      <td>biolink:associated with sensitivity to</td>\n",
       "      <td>ALL</td>\n",
       "      <td>Genetic variants</td>\n",
       "    </tr>\n",
       "    <tr>\n",
       "      <th>...</th>\n",
       "      <td>...</td>\n",
       "      <td>...</td>\n",
       "      <td>...</td>\n",
       "      <td>...</td>\n",
       "      <td>...</td>\n",
       "      <td>...</td>\n",
       "      <td>...</td>\n",
       "    </tr>\n",
       "    <tr>\n",
       "      <th>11991</th>\n",
       "      <td>Entrez:79968</td>\n",
       "      <td>[{'name': 'WDR76', 'categories': 'Gene'}]</td>\n",
       "      <td>CHEBI:137113</td>\n",
       "      <td>JQ1</td>\n",
       "      <td>biolink:associated with sensitivity to</td>\n",
       "      <td>UCEC</td>\n",
       "      <td>Expression</td>\n",
       "    </tr>\n",
       "    <tr>\n",
       "      <th>11992</th>\n",
       "      <td>Entrez:219539</td>\n",
       "      <td>[{'name': 'YPEL4', 'categories': 'Gene'}]</td>\n",
       "      <td>CHEBI:137113</td>\n",
       "      <td>JQ1</td>\n",
       "      <td>biolink:associated with sensitivity to</td>\n",
       "      <td>UCEC</td>\n",
       "      <td>Expression</td>\n",
       "    </tr>\n",
       "    <tr>\n",
       "      <th>11993</th>\n",
       "      <td>Entrez:201501</td>\n",
       "      <td>[{'name': 'ZBTB7C', 'categories': 'Gene'}]</td>\n",
       "      <td>CHEBI:137113</td>\n",
       "      <td>JQ1</td>\n",
       "      <td>biolink:associated with sensitivity to</td>\n",
       "      <td>UCEC</td>\n",
       "      <td>Expression</td>\n",
       "    </tr>\n",
       "    <tr>\n",
       "      <th>11994</th>\n",
       "      <td>Entrez:58500</td>\n",
       "      <td>[{'name': 'ZNF250', 'categories': 'Gene'}]</td>\n",
       "      <td>CHEBI:137113</td>\n",
       "      <td>JQ1</td>\n",
       "      <td>biolink:associated with sensitivity to</td>\n",
       "      <td>UCEC</td>\n",
       "      <td>Expression</td>\n",
       "    </tr>\n",
       "    <tr>\n",
       "      <th>11995</th>\n",
       "      <td>Entrez:90485</td>\n",
       "      <td>[{'name': 'ZNF835', 'categories': 'Gene'}]</td>\n",
       "      <td>CHEBI:137113</td>\n",
       "      <td>JQ1</td>\n",
       "      <td>biolink:associated with sensitivity to</td>\n",
       "      <td>UCEC</td>\n",
       "      <td>Expression</td>\n",
       "    </tr>\n",
       "  </tbody>\n",
       "</table>\n",
       "<p>11996 rows × 7 columns</p>\n",
       "</div>"
      ],
      "text/plain": [
       "             Subject                                 Subject_name  \\\n",
       "0       Entrez:25913     [{'name': 'POT1', 'categories': 'Gene'}]   \n",
       "1       Entrez:10810    [{'name': 'WASF3', 'categories': 'Gene'}]   \n",
       "2         Entrez:493   [{'name': 'ATP2B4', 'categories': 'Gene'}]   \n",
       "3      Entrez:550631  [{'name': 'CCDC157', 'categories': 'Gene'}]   \n",
       "4       Entrez:55771    [{'name': 'PRR11', 'categories': 'Gene'}]   \n",
       "...              ...                                          ...   \n",
       "11991   Entrez:79968    [{'name': 'WDR76', 'categories': 'Gene'}]   \n",
       "11992  Entrez:219539    [{'name': 'YPEL4', 'categories': 'Gene'}]   \n",
       "11993  Entrez:201501   [{'name': 'ZBTB7C', 'categories': 'Gene'}]   \n",
       "11994   Entrez:58500   [{'name': 'ZNF250', 'categories': 'Gene'}]   \n",
       "11995   Entrez:90485   [{'name': 'ZNF835', 'categories': 'Gene'}]   \n",
       "\n",
       "             Object Object_name                               predicate  \\\n",
       "0      CHEBI:137113         JQ1  biolink:associated with sensitivity to   \n",
       "1      CHEBI:137113         JQ1  biolink:associated with sensitivity to   \n",
       "2      CHEBI:137113         JQ1  biolink:associated with sensitivity to   \n",
       "3      CHEBI:137113         JQ1  biolink:associated with sensitivity to   \n",
       "4      CHEBI:137113         JQ1  biolink:associated with sensitivity to   \n",
       "...             ...         ...                                     ...   \n",
       "11991  CHEBI:137113         JQ1  biolink:associated with sensitivity to   \n",
       "11992  CHEBI:137113         JQ1  biolink:associated with sensitivity to   \n",
       "11993  CHEBI:137113         JQ1  biolink:associated with sensitivity to   \n",
       "11994  CHEBI:137113         JQ1  biolink:associated with sensitivity to   \n",
       "11995  CHEBI:137113         JQ1  biolink:associated with sensitivity to   \n",
       "\n",
       "      tumor_type           Modifer  \n",
       "0            GBM        Expression  \n",
       "1           UCEC        Expression  \n",
       "2             NB        Expression  \n",
       "3            ALL  Genetic variants  \n",
       "4            ALL  Genetic variants  \n",
       "...          ...               ...  \n",
       "11991       UCEC        Expression  \n",
       "11992       UCEC        Expression  \n",
       "11993       UCEC        Expression  \n",
       "11994       UCEC        Expression  \n",
       "11995       UCEC        Expression  \n",
       "\n",
       "[11996 rows x 7 columns]"
      ]
     },
     "execution_count": 87,
     "metadata": {},
     "output_type": "execute_result"
    }
   ],
   "source": [
    "res_sen"
   ]
  },
  {
   "cell_type": "code",
   "execution_count": 88,
   "id": "1e478758",
   "metadata": {},
   "outputs": [],
   "source": [
    "res_res = res_res.loc[res_res['Modifer'] == 'Expression']\n",
    "res_sen = res_sen.loc[res_sen['Modifer'] == 'Expression']"
   ]
  },
  {
   "cell_type": "code",
   "execution_count": 89,
   "id": "763c65d6",
   "metadata": {},
   "outputs": [],
   "source": [
    "res_sen_AML = res_sen.loc[res_sen['tumor_type'] == 'LAML']"
   ]
  },
  {
   "cell_type": "code",
   "execution_count": 90,
   "id": "08c44e6b",
   "metadata": {},
   "outputs": [],
   "source": [
    "gene_list_sen = []\n",
    "for gene_group in res_sen_AML['Subject_name']:\n",
    "    gene_list_sen.append(gene_group[0]['name'])"
   ]
  },
  {
   "cell_type": "code",
   "execution_count": 91,
   "id": "127b9fab",
   "metadata": {},
   "outputs": [
    {
     "data": {
      "text/plain": [
       "{'ECI1', 'PDHB'}"
      ]
     },
     "execution_count": 91,
     "metadata": {},
     "output_type": "execute_result"
    }
   ],
   "source": [
    "set(gene_list_sen).intersection(geneset)"
   ]
  },
  {
   "cell_type": "code",
   "execution_count": 92,
   "id": "c40a6d1c",
   "metadata": {},
   "outputs": [],
   "source": [
    "res_res_AML = res_res.loc[res_res['tumor_type'] == 'LAML']"
   ]
  },
  {
   "cell_type": "code",
   "execution_count": 93,
   "id": "5ae3daf7",
   "metadata": {},
   "outputs": [],
   "source": [
    "gene_list_res = []\n",
    "for gene_group in res_res_AML['Subject_name']:\n",
    "    gene_list_res.append(gene_group[0]['name'])"
   ]
  },
  {
   "cell_type": "code",
   "execution_count": 94,
   "id": "0eb70052",
   "metadata": {},
   "outputs": [
    {
     "data": {
      "text/plain": [
       "{'ECH1'}"
      ]
     },
     "execution_count": 94,
     "metadata": {},
     "output_type": "execute_result"
    }
   ],
   "source": [
    "gene_list_res\n",
    "set(gene_list_res).intersection(geneset)"
   ]
  },
  {
   "cell_type": "code",
   "execution_count": null,
   "id": "58a9bf6f",
   "metadata": {},
   "outputs": [],
   "source": []
  },
  {
   "cell_type": "code",
   "execution_count": null,
   "id": "17ba9c3a",
   "metadata": {},
   "outputs": [],
   "source": [
    "CRISPR_gene_dependency = get_geneset_data.get_data(\"Depmap_21Q4\",\"CRISPR_gene_dependency\")"
   ]
  },
  {
   "cell_type": "code",
   "execution_count": 11,
   "id": "ee56ce2b",
   "metadata": {},
   "outputs": [],
   "source": [
    "df =CRISPR_gene_dependency\n",
    "col_names = []\n",
    "if \"Unnamed: 0\" in df.columns:\n",
    "    for col in df.columns:\n",
    "        if col != \"Unnamed: 0\":\n",
    "            col_names.append(col.split(\" \")[0])\n",
    "\n",
    "    df.drop(columns=df.columns[0], \n",
    "            axis=1, \n",
    "            inplace=True)\n",
    "else:\n",
    "    for col in df.columns:\n",
    "        if col != \"Unnamed: 0\":\n",
    "            col_names.append(col.split(\" \")[0])\n",
    "\n",
    "df.columns = col_names\n",
    "geneset = list(set(geneset).intersection(set(col_names)))\n",
    "x = df.loc[:,geneset]"
   ]
  },
  {
   "cell_type": "code",
   "execution_count": 17,
   "id": "32148fa6",
   "metadata": {},
   "outputs": [],
   "source": [
    "import pandas as pd\n",
    "DDR_genes = pd.read_csv(\"/Users/guangrong/Documents/GitHub_project/fastqpi_BigGIM/KGs/cumulated_geneList/cumulated_geneset.csv\",sep = ',')"
   ]
  },
  {
   "cell_type": "code",
   "execution_count": 21,
   "id": "d95eb677",
   "metadata": {},
   "outputs": [],
   "source": [
    "genes = set(DDR_genes[\"Gene Symbol\"])"
   ]
  },
  {
   "cell_type": "code",
   "execution_count": 23,
   "id": "bcb9033f",
   "metadata": {},
   "outputs": [],
   "source": [
    "x = df.loc[:,list(genes.intersection(set(df.columns.values)))]"
   ]
  },
  {
   "cell_type": "code",
   "execution_count": 36,
   "id": "9cd0054f",
   "metadata": {},
   "outputs": [],
   "source": [
    "theshod = 0.8\n",
    "gene_list = list(x.columns.values)\n",
    "percentage_list_threshold = []\n",
    "for i in gene_list:\n",
    "    cur_sele = x.loc[x[i] > theshod]\n",
    "    percentage_list_threshold.append(cur_sele.shape[0]/df.shape[0])"
   ]
  },
  {
   "cell_type": "code",
   "execution_count": 31,
   "id": "7d2af657",
   "metadata": {},
   "outputs": [],
   "source": [
    "#result = pd.DataFrame({\"Gene\":gene_list,\"threshold_0.5\":percentage_list_threshold})"
   ]
  },
  {
   "cell_type": "code",
   "execution_count": 37,
   "id": "0fc34a2d",
   "metadata": {},
   "outputs": [],
   "source": [
    "result['threshold_0.8'] =  percentage_list_threshold"
   ]
  },
  {
   "cell_type": "code",
   "execution_count": 40,
   "id": "75939e85",
   "metadata": {},
   "outputs": [],
   "source": [
    "result.sort_values(by = ['threshold_0.5'],ascending = False).to_csv(\"DDR_essential_potential.csv\")"
   ]
  },
  {
   "cell_type": "code",
   "execution_count": null,
   "id": "1f87491e",
   "metadata": {},
   "outputs": [],
   "source": []
  }
 ],
 "metadata": {
  "kernelspec": {
   "display_name": "Python 3 (ipykernel)",
   "language": "python",
   "name": "python3"
  },
  "language_info": {
   "codemirror_mode": {
    "name": "ipython",
    "version": 3
   },
   "file_extension": ".py",
   "mimetype": "text/x-python",
   "name": "python",
   "nbconvert_exporter": "python",
   "pygments_lexer": "ipython3",
   "version": "3.10.0"
  }
 },
 "nbformat": 4,
 "nbformat_minor": 5
}
