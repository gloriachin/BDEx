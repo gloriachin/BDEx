{
 "cells": [
  {
   "cell_type": "code",
   "execution_count": null,
   "id": "1e0d7831",
   "metadata": {},
   "outputs": [],
   "source": [
    "from BDEx import get_geneset_data\n"
   ]
  },
  {
   "cell_type": "code",
   "execution_count": null,
   "id": "4d524a09",
   "metadata": {},
   "outputs": [],
   "source": [
    "geneset = get_geneset_data.get_geneset(\"msigdb\",\"HALLMARK_APOPTOSIS\")"
   ]
  },
  {
   "cell_type": "code",
   "execution_count": null,
   "id": "fca35080",
   "metadata": {},
   "outputs": [],
   "source": [
    "sample =  get_geneset_data.get_data(\"Depmap_21Q4\",\"sample_info\")\n",
    "#sample\n"
   ]
  }
 ],
 "metadata": {
  "kernelspec": {
   "display_name": "Python 3 (ipykernel)",
   "language": "python",
   "name": "python3"
  },
  "language_info": {
   "codemirror_mode": {
    "name": "ipython",
    "version": 3
   },
   "file_extension": ".py",
   "mimetype": "text/x-python",
   "name": "python",
   "nbconvert_exporter": "python",
   "pygments_lexer": "ipython3",
   "version": "3.10.0"
  }
 },
 "nbformat": 4,
 "nbformat_minor": 5
}
