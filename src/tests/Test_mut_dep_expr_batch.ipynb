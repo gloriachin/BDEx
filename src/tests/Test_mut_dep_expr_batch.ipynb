{
 "cells": [
  {
   "cell_type": "code",
   "execution_count": 1,
   "id": "70551045",
   "metadata": {},
   "outputs": [],
   "source": [
    "from BDEx import get_geneset_data, kg\n",
    "import numpy as np\n",
    "import pandas as pd\n",
    "from statsmodels.stats import multitest\n",
    "from scipy.stats import distributions\n",
    "import sys\n",
    "sys.path.append('../BDEx')\n",
    "import ana\n",
    "import get_geneset_data"
   ]
  },
  {
   "cell_type": "code",
   "execution_count": 2,
   "id": "72662505",
   "metadata": {},
   "outputs": [
    {
     "name": "stdout",
     "output_type": "stream",
     "text": [
      "INfO:  ./Temp/ already exists!\n",
      "Read file from ./Temp/CCLE_expression.csv\n",
      "INfO:  ./Temp/ already exists!\n"
     ]
    },
    {
     "name": "stderr",
     "output_type": "stream",
     "text": [
      "/var/folders/w1/p1v0w3j165ggfdk4xpn0tzgh0000gp/T/ipykernel_64889/140922935.py:3: DtypeWarning: Columns (3,19,22,27,28,29,30,31) have mixed types.Specify dtype option on import or set low_memory=False.\n",
      "  CCLE_mut = get_geneset_data.get_data(\"Depmap_21Q4\",\"CCLE_mutation\")\n"
     ]
    },
    {
     "name": "stdout",
     "output_type": "stream",
     "text": [
      "Read file from ./Temp/CCLE_mutation.csv\n",
      "INfO:  ./Temp/ already exists!\n",
      "Read file from ./Temp/sample_info.csv\n"
     ]
    }
   ],
   "source": [
    "#Read_data\n",
    "CCLE_expr = get_geneset_data.get_data(\"Depmap_21Q4\",\"CCLE_expression\")\n",
    "CCLE_mut = get_geneset_data.get_data(\"Depmap_21Q4\",\"CCLE_mutation\")\n",
    "Sample_info = get_geneset_data.get_data(\"Depmap_21Q4\",\"sample_info\")"
   ]
  },
  {
   "cell_type": "code",
   "execution_count": 4,
   "id": "0e9f4c96",
   "metadata": {},
   "outputs": [],
   "source": [
    "#Rename the gene names in the expression data\n",
    "CCLE_expr_col = list(CCLE_expr.columns)\n",
    "CCLE_expr_col_new = []\n",
    "for col in CCLE_expr_col:\n",
    "    if col != \"Unnamed: 0\":\n",
    "        CCLE_expr_col_new.append(col.split(' ')[0])\n",
    "    else:\n",
    "        CCLE_expr_col_new.append(col)\n",
    "        \n",
    "CCLE_expr.columns = CCLE_expr_col_new"
   ]
  },
  {
   "cell_type": "code",
   "execution_count": 11,
   "id": "f86f34e7",
   "metadata": {},
   "outputs": [],
   "source": [
    "#set(Sample_info['primary_disease'])"
   ]
  },
  {
   "cell_type": "code",
   "execution_count": 6,
   "id": "f011896e",
   "metadata": {},
   "outputs": [],
   "source": [
    "#Sample_info.loc[Sample_info['primary_disease'].isin(['Unknown','Non-Cancerous','Engineered'])]"
   ]
  },
  {
   "cell_type": "code",
   "execution_count": 7,
   "id": "b1f020b5",
   "metadata": {},
   "outputs": [],
   "source": [
    "geneset = get_geneset_data.get_geneset(\"msigdb\",\"HALLMARK_DNA_REPAIR\")"
   ]
  },
  {
   "cell_type": "code",
   "execution_count": 8,
   "id": "acee0749",
   "metadata": {},
   "outputs": [],
   "source": [
    "# Analysis\n",
    "tumor_type = \"Leukemia\"\n",
    "#tumor_type = \"Brain Cancer\"\n",
    "mut_list = ['TP53','RUNX1','FLT3','CEBPA','NPM1','KRAS','NRAS','DNMT3A']\n",
    "#mut_list = ['IDH1']\n",
    "expr_list =['FLT3','BCL2','FOXO1']\n",
    "expr_list = list(CCLE_expr.columns)\n",
    "Final = ana.mut_dep_expr_CCLE(Sample_info, CCLE_mut, CCLE_expr, tumor_type, \"two-sided\", mut_list, expr_list) #"
   ]
  },
  {
   "cell_type": "code",
   "execution_count": 9,
   "id": "d2468254",
   "metadata": {},
   "outputs": [],
   "source": [
    "# Output to file\n",
    "Final_sig = Final.loc[Final['p']<0.05]\n",
    "tumortype_name = tumor_type.replace(\" \", \"_\")\n",
    "tumortype_name = tumortype_name.replace(\"/\",\"_\")\n",
    "#Final_sig.to_csv(\"./results/\"+tumortype_name.replace(\" \", \"_\")+\"_mut_dep_expr_p0.05.csv\")"
   ]
  },
  {
   "cell_type": "code",
   "execution_count": 13,
   "id": "ccb26af9",
   "metadata": {},
   "outputs": [
    {
     "data": {
      "text/plain": [
       "{'DNMT3A', 'FLT3', 'KRAS', 'NRAS', 'RUNX1', 'TP53'}"
      ]
     },
     "execution_count": 13,
     "metadata": {},
     "output_type": "execute_result"
    }
   ],
   "source": [
    "set(Final_sig.loc[Final_sig['fdr']<0.05]['Gene_mut'])"
   ]
  },
  {
   "cell_type": "code",
   "execution_count": 20,
   "id": "0c96be7d",
   "metadata": {},
   "outputs": [
    {
     "data": {
      "text/html": [
       "<div>\n",
       "<style scoped>\n",
       "    .dataframe tbody tr th:only-of-type {\n",
       "        vertical-align: middle;\n",
       "    }\n",
       "\n",
       "    .dataframe tbody tr th {\n",
       "        vertical-align: top;\n",
       "    }\n",
       "\n",
       "    .dataframe thead th {\n",
       "        text-align: right;\n",
       "    }\n",
       "</style>\n",
       "<table border=\"1\" class=\"dataframe\">\n",
       "  <thead>\n",
       "    <tr style=\"text-align: right;\">\n",
       "      <th></th>\n",
       "      <th>Gene_expr</th>\n",
       "      <th>Gene_mut</th>\n",
       "      <th>mut_size</th>\n",
       "      <th>wt_size</th>\n",
       "      <th>z</th>\n",
       "      <th>p</th>\n",
       "      <th>fdr</th>\n",
       "      <th>Disease</th>\n",
       "    </tr>\n",
       "  </thead>\n",
       "  <tbody>\n",
       "    <tr>\n",
       "      <th>12</th>\n",
       "      <td>CYP2U1</td>\n",
       "      <td>TP53</td>\n",
       "      <td>58</td>\n",
       "      <td>45</td>\n",
       "      <td>4.601080</td>\n",
       "      <td>0.000004</td>\n",
       "      <td>0.005095</td>\n",
       "      <td>Leukemia</td>\n",
       "    </tr>\n",
       "    <tr>\n",
       "      <th>126</th>\n",
       "      <td>WNT11</td>\n",
       "      <td>TP53</td>\n",
       "      <td>58</td>\n",
       "      <td>45</td>\n",
       "      <td>3.723417</td>\n",
       "      <td>0.000197</td>\n",
       "      <td>0.032966</td>\n",
       "      <td>Leukemia</td>\n",
       "    </tr>\n",
       "    <tr>\n",
       "      <th>198</th>\n",
       "      <td>CLU</td>\n",
       "      <td>TP53</td>\n",
       "      <td>58</td>\n",
       "      <td>45</td>\n",
       "      <td>3.949482</td>\n",
       "      <td>0.000078</td>\n",
       "      <td>0.020297</td>\n",
       "      <td>Leukemia</td>\n",
       "    </tr>\n",
       "    <tr>\n",
       "      <th>582</th>\n",
       "      <td>FRRS1</td>\n",
       "      <td>TP53</td>\n",
       "      <td>58</td>\n",
       "      <td>45</td>\n",
       "      <td>4.507995</td>\n",
       "      <td>0.000007</td>\n",
       "      <td>0.005929</td>\n",
       "      <td>Leukemia</td>\n",
       "    </tr>\n",
       "    <tr>\n",
       "      <th>618</th>\n",
       "      <td>BEND6</td>\n",
       "      <td>TP53</td>\n",
       "      <td>58</td>\n",
       "      <td>45</td>\n",
       "      <td>3.849748</td>\n",
       "      <td>0.000118</td>\n",
       "      <td>0.023995</td>\n",
       "      <td>Leukemia</td>\n",
       "    </tr>\n",
       "    <tr>\n",
       "      <th>...</th>\n",
       "      <td>...</td>\n",
       "      <td>...</td>\n",
       "      <td>...</td>\n",
       "      <td>...</td>\n",
       "      <td>...</td>\n",
       "      <td>...</td>\n",
       "      <td>...</td>\n",
       "      <td>...</td>\n",
       "    </tr>\n",
       "    <tr>\n",
       "      <th>114258</th>\n",
       "      <td>BHLHB9</td>\n",
       "      <td>TP53</td>\n",
       "      <td>58</td>\n",
       "      <td>45</td>\n",
       "      <td>3.863046</td>\n",
       "      <td>0.000112</td>\n",
       "      <td>0.023642</td>\n",
       "      <td>Leukemia</td>\n",
       "    </tr>\n",
       "    <tr>\n",
       "      <th>114366</th>\n",
       "      <td>C16orf95</td>\n",
       "      <td>TP53</td>\n",
       "      <td>58</td>\n",
       "      <td>45</td>\n",
       "      <td>4.002674</td>\n",
       "      <td>0.000063</td>\n",
       "      <td>0.018198</td>\n",
       "      <td>Leukemia</td>\n",
       "    </tr>\n",
       "    <tr>\n",
       "      <th>114582</th>\n",
       "      <td>TRPC3</td>\n",
       "      <td>TP53</td>\n",
       "      <td>58</td>\n",
       "      <td>45</td>\n",
       "      <td>3.756662</td>\n",
       "      <td>0.000172</td>\n",
       "      <td>0.030529</td>\n",
       "      <td>Leukemia</td>\n",
       "    </tr>\n",
       "    <tr>\n",
       "      <th>114684</th>\n",
       "      <td>SLC39A8</td>\n",
       "      <td>TP53</td>\n",
       "      <td>58</td>\n",
       "      <td>45</td>\n",
       "      <td>4.215440</td>\n",
       "      <td>0.000025</td>\n",
       "      <td>0.012052</td>\n",
       "      <td>Leukemia</td>\n",
       "    </tr>\n",
       "    <tr>\n",
       "      <th>114990</th>\n",
       "      <td>RAP1GDS1</td>\n",
       "      <td>TP53</td>\n",
       "      <td>58</td>\n",
       "      <td>45</td>\n",
       "      <td>4.840443</td>\n",
       "      <td>0.000001</td>\n",
       "      <td>0.003422</td>\n",
       "      <td>Leukemia</td>\n",
       "    </tr>\n",
       "  </tbody>\n",
       "</table>\n",
       "<p>929 rows × 8 columns</p>\n",
       "</div>"
      ],
      "text/plain": [
       "       Gene_expr Gene_mut  mut_size  wt_size         z         p       fdr  \\\n",
       "12        CYP2U1     TP53        58       45  4.601080  0.000004  0.005095   \n",
       "126        WNT11     TP53        58       45  3.723417  0.000197  0.032966   \n",
       "198          CLU     TP53        58       45  3.949482  0.000078  0.020297   \n",
       "582        FRRS1     TP53        58       45  4.507995  0.000007  0.005929   \n",
       "618        BEND6     TP53        58       45  3.849748  0.000118  0.023995   \n",
       "...          ...      ...       ...      ...       ...       ...       ...   \n",
       "114258    BHLHB9     TP53        58       45  3.863046  0.000112  0.023642   \n",
       "114366  C16orf95     TP53        58       45  4.002674  0.000063  0.018198   \n",
       "114582     TRPC3     TP53        58       45  3.756662  0.000172  0.030529   \n",
       "114684   SLC39A8     TP53        58       45  4.215440  0.000025  0.012052   \n",
       "114990  RAP1GDS1     TP53        58       45  4.840443  0.000001  0.003422   \n",
       "\n",
       "         Disease  \n",
       "12      Leukemia  \n",
       "126     Leukemia  \n",
       "198     Leukemia  \n",
       "582     Leukemia  \n",
       "618     Leukemia  \n",
       "...          ...  \n",
       "114258  Leukemia  \n",
       "114366  Leukemia  \n",
       "114582  Leukemia  \n",
       "114684  Leukemia  \n",
       "114990  Leukemia  \n",
       "\n",
       "[929 rows x 8 columns]"
      ]
     },
     "execution_count": 20,
     "metadata": {},
     "output_type": "execute_result"
    }
   ],
   "source": [
    "x = Final_sig.loc[Final_sig['Gene_mut'] == \"TP53\"]\n",
    "x.loc[x['fdr']<0.05]"
   ]
  },
  {
   "cell_type": "code",
   "execution_count": null,
   "id": "405e188a",
   "metadata": {},
   "outputs": [],
   "source": []
  }
 ],
 "metadata": {
  "kernelspec": {
   "display_name": "Python 3 (ipykernel)",
   "language": "python",
   "name": "python3"
  },
  "language_info": {
   "codemirror_mode": {
    "name": "ipython",
    "version": 3
   },
   "file_extension": ".py",
   "mimetype": "text/x-python",
   "name": "python",
   "nbconvert_exporter": "python",
   "pygments_lexer": "ipython3",
   "version": "3.10.0"
  }
 },
 "nbformat": 4,
 "nbformat_minor": 5
}
