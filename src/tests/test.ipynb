{
 "cells": [
  {
   "cell_type": "code",
   "execution_count": null,
   "id": "1e0d7831",
   "metadata": {},
   "outputs": [],
   "source": [
    "from BDEx import get_geneset_data,ana, kg"
   ]
  },
  {
   "cell_type": "code",
   "execution_count": null,
   "id": "4d524a09",
   "metadata": {},
   "outputs": [],
   "source": [
    "geneset = get_geneset_data.get_geneset(\"msigdb\",\"HALLMARK_OXIDATIVE_PHOSPHORYLATION\")"
   ]
  },
  {
   "cell_type": "code",
   "execution_count": null,
   "id": "0cb42428",
   "metadata": {},
   "outputs": [],
   "source": [
    "CCLE_expr = get_geneset_data.get_data(\"Depmap_21Q4\",\"CCLE_expression\")"
   ]
  },
  {
   "cell_type": "code",
   "execution_count": null,
   "id": "d45322cd",
   "metadata": {},
   "outputs": [],
   "source": [
    "df =CCLE_expr\n",
    "col_names = []\n",
    "if \"Unnamed: 0\" in df.columns:\n",
    "    for col in df.columns:\n",
    "        if col != \"Unnamed: 0\":\n",
    "            col_names.append(col.split(\" \")[0])\n",
    "\n",
    "    df.drop(columns=df.columns[0], \n",
    "            axis=1, \n",
    "            inplace=True)\n",
    "else:\n",
    "    for col in df.columns:\n",
    "        if col != \"Unnamed: 0\":\n",
    "            col_names.append(col.split(\" \")[0])\n",
    "\n",
    "df.columns = col_names\n",
    "geneset = list(set(geneset).intersection(set(col_names)))\n",
    "x = df.loc[:,geneset]"
   ]
  },
  {
   "cell_type": "code",
   "execution_count": null,
   "id": "921607a9",
   "metadata": {},
   "outputs": [],
   "source": [
    "dic_gene_epxr = ana.pd2dic(x)\n",
    "result = ana.measure_cor_spearman_batch(dic_gene_epxr,geneset,geneset)\n",
    "[g1,g2,g3] = ana.check_gene_groups_from_correlation(result,0.3)"
   ]
  },
  {
   "cell_type": "code",
   "execution_count": null,
   "id": "278d4dc7",
   "metadata": {},
   "outputs": [],
   "source": [
    "kg.drug_response_KG_by_gene(\"EGFR\",\"biolink:associated with sensitivity to\")"
   ]
  },
  {
   "cell_type": "code",
   "execution_count": null,
   "id": "1a642f27",
   "metadata": {},
   "outputs": [],
   "source": [
    "kg.drug_response_KG_by_gene(\"KRAS\",\"biolink:associated with resistance to\")"
   ]
  },
  {
   "cell_type": "code",
   "execution_count": null,
   "id": "d0e9c9f4",
   "metadata": {},
   "outputs": [],
   "source": [
    "kg.drug_response_KG_by_drug(\"JQ1\",\"biolink:associated with sensitivity to\")"
   ]
  },
  {
   "cell_type": "code",
   "execution_count": null,
   "id": "c071e811",
   "metadata": {},
   "outputs": [],
   "source": [
    "kg.drug_response_KG_by_drug(\"JQ1\",\"biolink:associated with resistance to\")"
   ]
  },
  {
   "cell_type": "code",
   "execution_count": null,
   "id": "763c65d6",
   "metadata": {},
   "outputs": [],
   "source": []
  }
 ],
 "metadata": {
  "kernelspec": {
   "display_name": "Python 3 (ipykernel)",
   "language": "python",
   "name": "python3"
  },
  "language_info": {
   "codemirror_mode": {
    "name": "ipython",
    "version": 3
   },
   "file_extension": ".py",
   "mimetype": "text/x-python",
   "name": "python",
   "nbconvert_exporter": "python",
   "pygments_lexer": "ipython3",
   "version": "3.10.0"
  }
 },
 "nbformat": 4,
 "nbformat_minor": 5
}
