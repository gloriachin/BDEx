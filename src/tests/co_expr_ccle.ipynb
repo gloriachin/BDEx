{
 "cells": [
  {
   "cell_type": "code",
   "execution_count": null,
   "id": "419deb45",
   "metadata": {},
   "outputs": [],
   "source": [
    "#This is an example to use BDEx to calculate the gene co-expression in the CCLE datasets (all cell lines are included.)"
   ]
  },
  {
   "cell_type": "code",
   "execution_count": 1,
   "id": "7cb95a3c",
   "metadata": {},
   "outputs": [],
   "source": [
    "from BDEx import get_geneset_data,ana, kg\n",
    "import numpy as np"
   ]
  },
  {
   "cell_type": "code",
   "execution_count": 2,
   "id": "68e26bf4",
   "metadata": {},
   "outputs": [
    {
     "name": "stdout",
     "output_type": "stream",
     "text": [
      "https://ndownloader.figshare.com/files/31315882\n"
     ]
    }
   ],
   "source": [
    "CCLE_expr = get_geneset_data.get_data(\"Depmap_21Q4\",\"CCLE_expression\")"
   ]
  },
  {
   "cell_type": "code",
   "execution_count": 3,
   "id": "f33eb531",
   "metadata": {},
   "outputs": [],
   "source": [
    "df =CCLE_expr\n",
    "col_names = []\n",
    "if \"Unnamed: 0\" in df.columns:\n",
    "    for col in df.columns:\n",
    "        if col != \"Unnamed: 0\":\n",
    "            col_names.append(col.split(\" \")[0])\n",
    "\n",
    "    df.drop(columns=df.columns[0], \n",
    "            axis=1, \n",
    "            inplace=True)\n",
    "else:\n",
    "    for col in df.columns:\n",
    "        if col != \"Unnamed: 0\":\n",
    "            col_names.append(col.split(\" \")[0])\n",
    "\n",
    "df.columns = col_names"
   ]
  },
  {
   "cell_type": "code",
   "execution_count": 5,
   "id": "02d92a54",
   "metadata": {},
   "outputs": [],
   "source": [
    "dic_gene_epxr = ana.pd2dic(df)\n"
   ]
  },
  {
   "cell_type": "code",
   "execution_count": 17,
   "id": "303fc496",
   "metadata": {},
   "outputs": [
    {
     "name": "stderr",
     "output_type": "stream",
     "text": [
      "/Users/guangrong/.pyenv/versions/3.10.0/lib/python3.10/site-packages/BDEx/ana.py:33: RuntimeWarning: divide by zero encountered in true_divide\n",
      "  t = r * np.sqrt((n-2)/fac)\n"
     ]
    }
   ],
   "source": [
    "result = ana.measure_cor_spearman_batch(dic_gene_epxr,list(dic_gene_epxr.keys()),list(dic_gene_epxr.keys()))\n"
   ]
  },
  {
   "cell_type": "code",
   "execution_count": 18,
   "id": "492403e7",
   "metadata": {},
   "outputs": [],
   "source": [
    "result.to_csv(\"CCLE_pancan_co_expr.csv\")"
   ]
  }
 ],
 "metadata": {
  "kernelspec": {
   "display_name": "Python 3 (ipykernel)",
   "language": "python",
   "name": "python3"
  },
  "language_info": {
   "codemirror_mode": {
    "name": "ipython",
    "version": 3
   },
   "file_extension": ".py",
   "mimetype": "text/x-python",
   "name": "python",
   "nbconvert_exporter": "python",
   "pygments_lexer": "ipython3",
   "version": "3.10.0"
  }
 },
 "nbformat": 4,
 "nbformat_minor": 5
}
